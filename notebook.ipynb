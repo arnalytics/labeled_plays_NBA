{
 "cells": [
  {
   "cell_type": "code",
   "execution_count": 1,
   "metadata": {},
   "outputs": [
    {
     "name": "stderr",
     "output_type": "stream",
     "text": [
      "/Users/arnaubarrera/Desktop/MSc Computer Vision/TFM/labeled_plays_NBA/.venv/lib/python3.9/site-packages/urllib3/__init__.py:35: NotOpenSSLWarning: urllib3 v2 only supports OpenSSL 1.1.1+, currently the 'ssl' module is compiled with 'LibreSSL 2.8.3'. See: https://github.com/urllib3/urllib3/issues/3020\n",
      "  warnings.warn(\n"
     ]
    }
   ],
   "source": [
    "from selenium import webdriver\n",
    "from selenium.webdriver.common.by import By\n",
    "from selenium.webdriver.common.keys import Keys\n",
    "from selenium.webdriver.support.ui import WebDriverWait, Select\n",
    "from selenium.webdriver.support import expected_conditions as EC\n",
    "import time\n",
    "import pandas as pd\n",
    "import bs4 as BeautifulSoup\n",
    "\n",
    "from main import *"
   ]
  },
  {
   "cell_type": "code",
   "execution_count": null,
   "metadata": {},
   "outputs": [
    {
     "name": "stdout",
     "output_type": "stream",
     "text": [
      "Cookies banner closed.\n",
      "Link found: https://www.nba.com/stats/events/?CFID=&CFPARAMS=&ContextMeasure=FGA&GameID=&PlayerID=203507&Season=2024-25&SeasonType=Regular%20Season&TeamID=1610612749&flag=3&sct=plot&section=game\n"
     ]
    }
   ],
   "source": [
    "# Initialize the Chrome driver\n",
    "driver = webdriver.Chrome()\n",
    "\n",
    "# Navigate to the player statistics page\n",
    "driver.get(\"https://www.nba.com/stats/players/traditional\")\n",
    "\n",
    "# Explicit wait to ensure the table is loaded\n",
    "wait = WebDriverWait(driver, 10)\n",
    "\n",
    "general_players_table_xpath = '//*[@id=\"__next\"]/div[2]/div[2]/div[3]/section[2]/div/div[2]/div[3]/table/'\n",
    "\n",
    "accept_cookies(driver)\n",
    "time.sleep(3)\n",
    "\n",
    "# Clicar en cierta columna (tipo de jugada) de un jugador en concreto\n",
    "try:\n",
    "    column_indices = {\"FGA\": 11, \"3PA\": 14, \"REB\": 21, \"AST\": 22, \"TOV\": 23, \"STL\": 24, \"BLK\": 25}\n",
    "\n",
    "    link_xpath = general_players_table_xpath + f'tbody/tr[1]/td[{column_indices[\"FGA\"]}]/a'\n",
    "    link_element = WebDriverWait(driver, 10).until(\n",
    "        EC.element_to_be_clickable((By.XPATH, link_xpath))\n",
    "    )\n",
    "\n",
    "    link_url = link_element.get_attribute(\"href\")\n",
    "    print(f\"Link found: {link_element.get_attribute('href')}\")\n",
    "    driver.get(link_url)\n",
    "\n",
    "except Exception as e:\n",
    "    print(f\"Error: {e}\")\n",
    "\n",
    "\n",
    "# Create the data frame for the labels of the plays\n",
    "header_xpath = '//*[@id=\"__next\"]/div[2]/div[2]/div[3]/section/div/div/div[3]/table/thead/tr/th'\n",
    "header_elements = WebDriverWait(driver, 10).until(\n",
    "    EC.presence_of_all_elements_located((By.XPATH, header_xpath))\n",
    ")\n",
    "\n",
    "# Extraer los nombres de las columnas (headers)\n",
    "headers = [header.text for header in header_elements]\n",
    "headers.append(\"AST\")  # Añadir la columna para el link del video\n",
    "headers.append(\"Video Link\")  # Añadir la columna para el link del video\n",
    "\n",
    "# Crear el DataFrame vacío con los headers\n",
    "labels_df = pd.DataFrame(columns=headers)\n",
    "\n",
    "# Click on some row of the table of plays\n",
    "video_display_xpath = '//*[@id=\"vjs_video_3_html5_api\"]'\n",
    "\n",
    "# Load all the rows in one page before iterating\n",
    "dropdown_xpath = '//*[@class=\"DropDown_select__4pIg9\"]'\n",
    "option_value = '-1'\n",
    "\n",
    "dropdown_element = WebDriverWait(driver, 10).until(\n",
    "    EC.element_to_be_clickable((By.XPATH, dropdown_xpath))\n",
    ")\n",
    "select = Select(dropdown_element)\n",
    "select.select_by_value(option_value)\n",
    "\n",
    "\n",
    "for i in range(1, 652):  # Iterate over all the plays of a particular player\n",
    "    line_play = f'//*[@id=\"__next\"]/div[2]/div[2]/div[3]/section/div/div/div[3]/table/tbody/tr[{i}]/td'\n",
    "\n",
    "    play = WebDriverWait(driver, 10).until(\n",
    "        EC.element_to_be_clickable((By.XPATH, line_play))\n",
    "    )\n",
    "\n",
    "    columns_play = play.find_elements(By.XPATH, line_play)\n",
    "    \n",
    "    row_data = []\n",
    "    for col in columns_play:\n",
    "        row_data.append(col.text)\n",
    "    \n",
    "    play.click()\n",
    "\n",
    "    # Verify if the shot is assisted\n",
    "    ast_xpath = '//*[@id=\"__next\"]/div[2]/div[2]/div[3]/section/div/main/section[1]/div/div[2]/h2'\n",
    "\n",
    "    ast_element = WebDriverWait(driver, 10).until(\n",
    "        EC.presence_of_element_located((By.XPATH, ast_xpath))\n",
    "    )\n",
    "    ast_present = 'AST' in ast_element.text\n",
    "    row_data.append(ast_present)\n",
    "\n",
    "    # Video display element\n",
    "    video_element = WebDriverWait(driver, 10).until(\n",
    "        EC.presence_of_element_located((By.XPATH, video_display_xpath))\n",
    "    )\n",
    "    video_src = video_element.get_attribute('src')\n",
    "    row_data.append(video_src)  \n",
    "\n",
    "    # La fila se agrega al DataFrame\n",
    "    labels_df.loc[i - 1] = row_data  \n",
    "\n",
    "\n",
    "driver.quit()"
   ]
  }
 ],
 "metadata": {
  "kernelspec": {
   "display_name": ".venv",
   "language": "python",
   "name": "python3"
  },
  "language_info": {
   "codemirror_mode": {
    "name": "ipython",
    "version": 3
   },
   "file_extension": ".py",
   "mimetype": "text/x-python",
   "name": "python",
   "nbconvert_exporter": "python",
   "pygments_lexer": "ipython3",
   "version": "3.9.6"
  }
 },
 "nbformat": 4,
 "nbformat_minor": 2
}
