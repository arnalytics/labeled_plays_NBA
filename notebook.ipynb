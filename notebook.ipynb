{
 "cells": [
  {
   "cell_type": "code",
   "execution_count": 2,
   "metadata": {},
   "outputs": [
    {
     "name": "stderr",
     "output_type": "stream",
     "text": [
      "/Users/arnaubarrera/Desktop/MSc Computer Vision/TFM/labeled_plays_NBA/.venv/lib/python3.9/site-packages/urllib3/__init__.py:35: NotOpenSSLWarning: urllib3 v2 only supports OpenSSL 1.1.1+, currently the 'ssl' module is compiled with 'LibreSSL 2.8.3'. See: https://github.com/urllib3/urllib3/issues/3020\n",
      "  warnings.warn(\n"
     ]
    }
   ],
   "source": [
    "from selenium.webdriver.common.by import By\n",
    "from selenium.webdriver.support.ui import WebDriverWait, Select\n",
    "from selenium.webdriver.support import expected_conditions as EC\n",
    "\n",
    "from post_processing import *"
   ]
  },
  {
   "cell_type": "code",
   "execution_count": 3,
   "metadata": {},
   "outputs": [
    {
     "name": "stdout",
     "output_type": "stream",
     "text": [
      "Archivo guardado en: holy_grail/labels/DREB_all.csv\n",
      "Archivo guardado en: holy_grail/labels/OREB_all.csv\n"
     ]
    }
   ],
   "source": [
    "df = concatenate_playtype_seasons(play_type='DREB', seasons='All', save=True)\n",
    "df = concatenate_playtype_seasons(play_type='OREB', seasons='All', save=True)"
   ]
  },
  {
   "cell_type": "code",
   "execution_count": 4,
   "metadata": {},
   "outputs": [
    {
     "name": "stdout",
     "output_type": "stream",
     "text": [
      "Archivo limpio guardado en: holy_grail/labels/DREB_all.csv\n",
      "Archivo limpio guardado en: holy_grail/labels/OREB_all.csv\n"
     ]
    }
   ],
   "source": [
    "clean_missing_video_data('DREB_all.csv', True)\n",
    "clean_missing_video_data('OREB_all.csv', True)"
   ]
  },
  {
   "cell_type": "markdown",
   "metadata": {},
   "source": [
    "## 1. Scrape labels for FGA: Includes info of FGM (2p & 3p) and AST."
   ]
  },
  {
   "cell_type": "code",
   "execution_count": null,
   "metadata": {},
   "outputs": [],
   "source": [
    "driver = initialize_driver(season=\"2023-24\")\n",
    "\n",
    "general_players_table_xpath = '//*[@id=\"__next\"]/div[2]/div[2]/div[3]/section[2]/div/div[2]/div[3]/table/'\n",
    "\n",
    "# Create the empty dataframe for the labels, depending on the type of play\n",
    "play_type_indices = {\"FGA\": 11, \"REB\": 21, \"TOV\": 23, \"STL\": 24, \"BLK\": 25}\n",
    "play_type = 'FGA'\n",
    "\n",
    "df_path = '/Users/arnaubarrera/Desktop/MSc Computer Vision/TFM/labeled_plays_NBA/holy_grail/FGA_labels.csv'\n",
    "labels_df = pd.read_csv(df_path)\n",
    "\n",
    "for i in range(25, 100):  # Iterate over the list of players\n",
    "\n",
    "    # Clicar en cierta columna (tipo de jugada) de un jugador en concreto\n",
    "    try:\n",
    "\n",
    "        link_xpath = general_players_table_xpath + f'tbody/tr[{i}]/td[{play_type_indices[play_type]}]/a'\n",
    "        link_element = WebDriverWait(driver, 10).until(\n",
    "            EC.element_to_be_clickable((By.XPATH, link_xpath))\n",
    "        )\n",
    "\n",
    "        link_url = link_element.get_attribute(\"href\")\n",
    "        driver.get(link_url)\n",
    "\n",
    "    except Exception as e:\n",
    "        print(f\"Error: {e}\")\n",
    "\n",
    "    video_display_xpath = '//*[@id=\"vjs_video_3_html5_api\"]'\n",
    "\n",
    "    # Load all the rows in one page before iterating\n",
    "    dropdown_xpath = '//*[@class=\"DropDown_select__4pIg9\"]'\n",
    "    option_value = '-1'\n",
    "\n",
    "    dropdown_element = WebDriverWait(driver, 10).until(\n",
    "        EC.element_to_be_clickable((By.XPATH, dropdown_xpath))\n",
    "    )\n",
    "    select = Select(dropdown_element)\n",
    "    select.select_by_value(option_value)\n",
    "\n",
    "    rows_number = count_rows_table(driver, table_xpath='//*[@id=\"__next\"]/div[2]/div[2]/div[3]/section/div/div/div[3]/table/tbody')\n",
    "\n",
    "    for i in range(1, rows_number):  # Iterate over all the plays of a particular player\n",
    "        line_play = f'//*[@id=\"__next\"]/div[2]/div[2]/div[3]/section/div/div/div[3]/table/tbody/tr[{i}]/td'\n",
    "\n",
    "        play = WebDriverWait(driver, 10).until(\n",
    "            EC.element_to_be_clickable((By.XPATH, line_play))\n",
    "        )\n",
    "\n",
    "        columns_play = play.find_elements(By.XPATH, line_play)\n",
    "        \n",
    "        row_data = []\n",
    "        for col in columns_play:\n",
    "            row_data.append(col.text)\n",
    "        \n",
    "        play.click()\n",
    "\n",
    "        # Verify if the shot is assisted\n",
    "        ast_xpath = '//*[@id=\"__next\"]/div[2]/div[2]/div[3]/section/div/main/section[1]/div/div[2]/h2'\n",
    "\n",
    "        ast_element = WebDriverWait(driver, 10).until(\n",
    "            EC.presence_of_element_located((By.XPATH, ast_xpath))\n",
    "        )\n",
    "\n",
    "        ast_present, assisted_by = extract_assist_info(ast_element.text)\n",
    "        row_data.extend([ast_present, assisted_by])\n",
    "\n",
    "        # Video display element\n",
    "        video_element = WebDriverWait(driver, 10).until(\n",
    "            EC.presence_of_element_located((By.XPATH, video_display_xpath))\n",
    "        )\n",
    "        video_src = video_element.get_attribute('src')\n",
    "        row_data.append(video_src) \n",
    "\n",
    "        # La fila se agrega al DataFrame\n",
    "        labels_df.loc[i - 1] = row_data  \n",
    "    \n",
    "    # Actualizar el csv con los nuevos datos\n",
    "    labels_df.to_csv(df_path, mode='a', index=True, header=False)\n",
    "\n",
    "    # Cuando se ha guardado, click en la flecha de ir para atrás\n",
    "    driver.back()\n",
    "    time.sleep(2)\n",
    "\n",
    "\n",
    "driver.quit()"
   ]
  },
  {
   "cell_type": "markdown",
   "metadata": {},
   "source": [
    "## 3. Scrape BLOCKS"
   ]
  },
  {
   "cell_type": "code",
   "execution_count": null,
   "metadata": {},
   "outputs": [
    {
     "name": "stdout",
     "output_type": "stream",
     "text": [
      "Cookies banner closed.\n",
      "There's only one page\n",
      "There's only one page\n",
      "There's only one page\n",
      "There's only one page\n",
      "There's only one page\n",
      "There's only one page\n",
      "There's only one page\n",
      "There's only one page\n",
      "There's only one page\n",
      "There's only one page\n",
      "There's only one page\n",
      "There's only one page\n",
      "There's only one page\n",
      "There's only one page\n",
      "There's only one page\n",
      "There's only one page\n",
      "There's only one page\n",
      "There's only one page\n",
      "There's only one page\n",
      "There's only one page\n",
      "There's only one page\n",
      "There's only one page\n",
      "There's only one page\n",
      "There's only one page\n",
      "There's only one page\n",
      "There's only one page\n",
      "There's only one page\n",
      "There's only one page\n",
      "There's only one page\n",
      "There's only one page\n",
      "There's only one page\n",
      "There's only one page\n",
      "There's only one page\n",
      "There's only one page\n",
      "There's only one page\n",
      "There's only one page\n",
      "There's only one page\n"
     ]
    },
    {
     "ename": "NoSuchElementException",
     "evalue": "Message: no such element: Unable to locate element: {\"method\":\"xpath\",\"selector\":\"//*[@id=\"__next\"]/div[2]/div[2]/div[3]/section[2]/div/div[2]/div[3]/table/tbody/tr[47]/td[2]/a\"}\n  (Session info: chrome=131.0.6778.265); For documentation on this error, please visit: https://www.selenium.dev/documentation/webdriver/troubleshooting/errors#no-such-element-exception\nStacktrace:\n0   chromedriver                        0x00000001009fa138 cxxbridge1$str$ptr + 3653888\n1   chromedriver                        0x00000001009f2988 cxxbridge1$str$ptr + 3623248\n2   chromedriver                        0x0000000100458968 cxxbridge1$string$len + 89228\n3   chromedriver                        0x000000010049cd4c cxxbridge1$string$len + 368752\n4   chromedriver                        0x00000001004d64f0 cxxbridge1$string$len + 604180\n5   chromedriver                        0x0000000100491564 cxxbridge1$string$len + 321672\n6   chromedriver                        0x00000001004921b4 cxxbridge1$string$len + 324824\n7   chromedriver                        0x00000001009c4fc0 cxxbridge1$str$ptr + 3436424\n8   chromedriver                        0x00000001009c82dc cxxbridge1$str$ptr + 3449508\n9   chromedriver                        0x00000001009abe60 cxxbridge1$str$ptr + 3333672\n10  chromedriver                        0x00000001009c8b9c cxxbridge1$str$ptr + 3451748\n11  chromedriver                        0x000000010099d678 cxxbridge1$str$ptr + 3274304\n12  chromedriver                        0x00000001009e32b4 cxxbridge1$str$ptr + 3560060\n13  chromedriver                        0x00000001009e3430 cxxbridge1$str$ptr + 3560440\n14  chromedriver                        0x00000001009f25fc cxxbridge1$str$ptr + 3622340\n15  libsystem_pthread.dylib             0x000000019f9f72e4 _pthread_start + 136\n16  libsystem_pthread.dylib             0x000000019f9f20fc thread_start + 8\n",
     "output_type": "error",
     "traceback": [
      "\u001b[0;31m---------------------------------------------------------------------------\u001b[0m",
      "\u001b[0;31mNoSuchElementException\u001b[0m                    Traceback (most recent call last)",
      "Cell \u001b[0;32mIn[3], line 19\u001b[0m\n\u001b[1;32m     15\u001b[0m \u001b[38;5;28;01mfor\u001b[39;00m i \u001b[38;5;129;01min\u001b[39;00m \u001b[38;5;28mrange\u001b[39m(\u001b[38;5;241m1\u001b[39m, \u001b[38;5;241m100\u001b[39m):  \u001b[38;5;66;03m# Iterate over the list of players\u001b[39;00m\n\u001b[1;32m     16\u001b[0m \n\u001b[1;32m     17\u001b[0m     \u001b[38;5;66;03m# Player name\u001b[39;00m\n\u001b[1;32m     18\u001b[0m     xpath_player_name \u001b[38;5;241m=\u001b[39m \u001b[38;5;124mf\u001b[39m\u001b[38;5;124m'\u001b[39m\u001b[38;5;124m//*[@id=\u001b[39m\u001b[38;5;124m\"\u001b[39m\u001b[38;5;124m__next\u001b[39m\u001b[38;5;124m\"\u001b[39m\u001b[38;5;124m]/div[2]/div[2]/div[3]/section[2]/div/div[2]/div[3]/table/tbody/tr[\u001b[39m\u001b[38;5;132;01m{\u001b[39;00mi\u001b[38;5;132;01m}\u001b[39;00m\u001b[38;5;124m]/td[2]/a\u001b[39m\u001b[38;5;124m'\u001b[39m\n\u001b[0;32m---> 19\u001b[0m     player_name \u001b[38;5;241m=\u001b[39m \u001b[43mdriver\u001b[49m\u001b[38;5;241;43m.\u001b[39;49m\u001b[43mfind_element\u001b[49m\u001b[43m(\u001b[49m\u001b[43mBy\u001b[49m\u001b[38;5;241;43m.\u001b[39;49m\u001b[43mXPATH\u001b[49m\u001b[43m,\u001b[49m\u001b[43m \u001b[49m\u001b[43mxpath_player_name\u001b[49m\u001b[43m)\u001b[49m\u001b[38;5;241m.\u001b[39mtext\n\u001b[1;32m     21\u001b[0m     \u001b[38;5;66;03m# Clicar en cierta columna (tipo de jugada) de un jugador en concreto\u001b[39;00m\n\u001b[1;32m     22\u001b[0m     link_xpath \u001b[38;5;241m=\u001b[39m general_players_table_xpath \u001b[38;5;241m+\u001b[39m \u001b[38;5;124mf\u001b[39m\u001b[38;5;124m'\u001b[39m\u001b[38;5;124mtbody/tr[\u001b[39m\u001b[38;5;132;01m{\u001b[39;00mi\u001b[38;5;132;01m}\u001b[39;00m\u001b[38;5;124m]/td[\u001b[39m\u001b[38;5;132;01m{\u001b[39;00mplay_type_indices[play_type]\u001b[38;5;132;01m}\u001b[39;00m\u001b[38;5;124m]/a\u001b[39m\u001b[38;5;124m'\u001b[39m\n",
      "File \u001b[0;32m~/Desktop/MSc Computer Vision/TFM/labeled_plays_NBA/.venv/lib/python3.9/site-packages/selenium/webdriver/remote/webdriver.py:770\u001b[0m, in \u001b[0;36mWebDriver.find_element\u001b[0;34m(self, by, value)\u001b[0m\n\u001b[1;32m    767\u001b[0m         \u001b[38;5;28;01mraise\u001b[39;00m NoSuchElementException(\u001b[38;5;124mf\u001b[39m\u001b[38;5;124m\"\u001b[39m\u001b[38;5;124mCannot locate relative element with: \u001b[39m\u001b[38;5;132;01m{\u001b[39;00mby\u001b[38;5;241m.\u001b[39mroot\u001b[38;5;132;01m}\u001b[39;00m\u001b[38;5;124m\"\u001b[39m)\n\u001b[1;32m    768\u001b[0m     \u001b[38;5;28;01mreturn\u001b[39;00m elements[\u001b[38;5;241m0\u001b[39m]\n\u001b[0;32m--> 770\u001b[0m \u001b[38;5;28;01mreturn\u001b[39;00m \u001b[38;5;28;43mself\u001b[39;49m\u001b[38;5;241;43m.\u001b[39;49m\u001b[43mexecute\u001b[49m\u001b[43m(\u001b[49m\u001b[43mCommand\u001b[49m\u001b[38;5;241;43m.\u001b[39;49m\u001b[43mFIND_ELEMENT\u001b[49m\u001b[43m,\u001b[49m\u001b[43m \u001b[49m\u001b[43m{\u001b[49m\u001b[38;5;124;43m\"\u001b[39;49m\u001b[38;5;124;43musing\u001b[39;49m\u001b[38;5;124;43m\"\u001b[39;49m\u001b[43m:\u001b[49m\u001b[43m \u001b[49m\u001b[43mby\u001b[49m\u001b[43m,\u001b[49m\u001b[43m \u001b[49m\u001b[38;5;124;43m\"\u001b[39;49m\u001b[38;5;124;43mvalue\u001b[39;49m\u001b[38;5;124;43m\"\u001b[39;49m\u001b[43m:\u001b[49m\u001b[43m \u001b[49m\u001b[43mvalue\u001b[49m\u001b[43m}\u001b[49m\u001b[43m)\u001b[49m[\u001b[38;5;124m\"\u001b[39m\u001b[38;5;124mvalue\u001b[39m\u001b[38;5;124m\"\u001b[39m]\n",
      "File \u001b[0;32m~/Desktop/MSc Computer Vision/TFM/labeled_plays_NBA/.venv/lib/python3.9/site-packages/selenium/webdriver/remote/webdriver.py:384\u001b[0m, in \u001b[0;36mWebDriver.execute\u001b[0;34m(self, driver_command, params)\u001b[0m\n\u001b[1;32m    382\u001b[0m response \u001b[38;5;241m=\u001b[39m \u001b[38;5;28mself\u001b[39m\u001b[38;5;241m.\u001b[39mcommand_executor\u001b[38;5;241m.\u001b[39mexecute(driver_command, params)\n\u001b[1;32m    383\u001b[0m \u001b[38;5;28;01mif\u001b[39;00m response:\n\u001b[0;32m--> 384\u001b[0m     \u001b[38;5;28;43mself\u001b[39;49m\u001b[38;5;241;43m.\u001b[39;49m\u001b[43merror_handler\u001b[49m\u001b[38;5;241;43m.\u001b[39;49m\u001b[43mcheck_response\u001b[49m\u001b[43m(\u001b[49m\u001b[43mresponse\u001b[49m\u001b[43m)\u001b[49m\n\u001b[1;32m    385\u001b[0m     response[\u001b[38;5;124m\"\u001b[39m\u001b[38;5;124mvalue\u001b[39m\u001b[38;5;124m\"\u001b[39m] \u001b[38;5;241m=\u001b[39m \u001b[38;5;28mself\u001b[39m\u001b[38;5;241m.\u001b[39m_unwrap_value(response\u001b[38;5;241m.\u001b[39mget(\u001b[38;5;124m\"\u001b[39m\u001b[38;5;124mvalue\u001b[39m\u001b[38;5;124m\"\u001b[39m, \u001b[38;5;28;01mNone\u001b[39;00m))\n\u001b[1;32m    386\u001b[0m     \u001b[38;5;28;01mreturn\u001b[39;00m response\n",
      "File \u001b[0;32m~/Desktop/MSc Computer Vision/TFM/labeled_plays_NBA/.venv/lib/python3.9/site-packages/selenium/webdriver/remote/errorhandler.py:232\u001b[0m, in \u001b[0;36mErrorHandler.check_response\u001b[0;34m(self, response)\u001b[0m\n\u001b[1;32m    230\u001b[0m         alert_text \u001b[38;5;241m=\u001b[39m value[\u001b[38;5;124m\"\u001b[39m\u001b[38;5;124malert\u001b[39m\u001b[38;5;124m\"\u001b[39m]\u001b[38;5;241m.\u001b[39mget(\u001b[38;5;124m\"\u001b[39m\u001b[38;5;124mtext\u001b[39m\u001b[38;5;124m\"\u001b[39m)\n\u001b[1;32m    231\u001b[0m     \u001b[38;5;28;01mraise\u001b[39;00m exception_class(message, screen, stacktrace, alert_text)  \u001b[38;5;66;03m# type: ignore[call-arg]  # mypy is not smart enough here\u001b[39;00m\n\u001b[0;32m--> 232\u001b[0m \u001b[38;5;28;01mraise\u001b[39;00m exception_class(message, screen, stacktrace)\n",
      "\u001b[0;31mNoSuchElementException\u001b[0m: Message: no such element: Unable to locate element: {\"method\":\"xpath\",\"selector\":\"//*[@id=\"__next\"]/div[2]/div[2]/div[3]/section[2]/div/div[2]/div[3]/table/tbody/tr[47]/td[2]/a\"}\n  (Session info: chrome=131.0.6778.265); For documentation on this error, please visit: https://www.selenium.dev/documentation/webdriver/troubleshooting/errors#no-such-element-exception\nStacktrace:\n0   chromedriver                        0x00000001009fa138 cxxbridge1$str$ptr + 3653888\n1   chromedriver                        0x00000001009f2988 cxxbridge1$str$ptr + 3623248\n2   chromedriver                        0x0000000100458968 cxxbridge1$string$len + 89228\n3   chromedriver                        0x000000010049cd4c cxxbridge1$string$len + 368752\n4   chromedriver                        0x00000001004d64f0 cxxbridge1$string$len + 604180\n5   chromedriver                        0x0000000100491564 cxxbridge1$string$len + 321672\n6   chromedriver                        0x00000001004921b4 cxxbridge1$string$len + 324824\n7   chromedriver                        0x00000001009c4fc0 cxxbridge1$str$ptr + 3436424\n8   chromedriver                        0x00000001009c82dc cxxbridge1$str$ptr + 3449508\n9   chromedriver                        0x00000001009abe60 cxxbridge1$str$ptr + 3333672\n10  chromedriver                        0x00000001009c8b9c cxxbridge1$str$ptr + 3451748\n11  chromedriver                        0x000000010099d678 cxxbridge1$str$ptr + 3274304\n12  chromedriver                        0x00000001009e32b4 cxxbridge1$str$ptr + 3560060\n13  chromedriver                        0x00000001009e3430 cxxbridge1$str$ptr + 3560440\n14  chromedriver                        0x00000001009f25fc cxxbridge1$str$ptr + 3622340\n15  libsystem_pthread.dylib             0x000000019f9f72e4 _pthread_start + 136\n16  libsystem_pthread.dylib             0x000000019f9f20fc thread_start + 8\n"
     ]
    }
   ],
   "source": [
    "season = \"2023-24\"\n",
    "play_type = \"BLK\"\n",
    "\n",
    "driver = initialize_driver(season=season)\n",
    "\n",
    "general_players_table_xpath = '//*[@id=\"__next\"]/div[2]/div[2]/div[3]/section[2]/div/div[2]/div[3]/table/'\n",
    "\n",
    "# Create the empty dataframe for the labels, depending on the type of play\n",
    "play_type_indices = {\"FGA\": 11, \"OREB\": 19, \"DREB\": 20, \"REB\": 21, \"TOV\": 23, \"STL\": 24, \"BLK\": 25}\n",
    "\n",
    "labels_df = create_dataframe(play_type)\n",
    "df_path = f'/Users/arnaubarrera/Desktop/MSc Computer Vision/TFM/labeled_plays_NBA/holy_grail/labels/{play_type}_labels.csv'\n",
    "labels_df.to_csv(df_path, mode='w', index=True, header=True)\n",
    "\n",
    "for i in range(1, 100):  # Iterate over the list of players\n",
    "\n",
    "    # Player name\n",
    "    xpath_player_name = f'//*[@id=\"__next\"]/div[2]/div[2]/div[3]/section[2]/div/div[2]/div[3]/table/tbody/tr[{i}]/td[2]/a'\n",
    "    player_name = driver.find_element(By.XPATH, xpath_player_name).text\n",
    "\n",
    "    # Clicar en cierta columna (tipo de jugada) de un jugador en concreto\n",
    "    link_xpath = general_players_table_xpath + f'tbody/tr[{i}]/td[{play_type_indices[play_type]}]/a'\n",
    "    link_element = WebDriverWait(driver, 10).until(\n",
    "        EC.element_to_be_clickable((By.XPATH, link_xpath))\n",
    "    )\n",
    "\n",
    "    link_url = link_element.get_attribute(\"href\")\n",
    "    driver.get(link_url)\n",
    "\n",
    "    video_display_xpath = '//*[@id=\"vjs_video_3_html5_api\"]'\n",
    "\n",
    "    # Load all the rows in one page before iterating\n",
    "    dropdown_xpath = '//*[@class=\"DropDown_select__4pIg9\"]'\n",
    "    option_value = '-1'\n",
    "\n",
    "    try:\n",
    "        dropdown_element = WebDriverWait(driver, 10).until(\n",
    "            EC.element_to_be_clickable((By.XPATH, dropdown_xpath))\n",
    "        )\n",
    "        select = Select(dropdown_element)\n",
    "        select.select_by_value(option_value)\n",
    "    except:\n",
    "        print(\"There's only one page\")\n",
    "        \n",
    "\n",
    "    rows_number = count_rows_table(driver, table_xpath='//*[@id=\"__next\"]/div[2]/div[2]/div[3]/section/div/div/div[3]/table/tbody')\n",
    "\n",
    "    for i in range(1, rows_number):  # Iterate over all the plays of a particular player\n",
    "        line_play = f'//*[@id=\"__next\"]/div[2]/div[2]/div[3]/section/div/div/div[3]/table/tbody/tr[{i}]/td'\n",
    "\n",
    "        play = WebDriverWait(driver, 10).until(\n",
    "            EC.element_to_be_clickable((By.XPATH, line_play))\n",
    "        )\n",
    "\n",
    "        columns_play = play.find_elements(By.XPATH, line_play)\n",
    "        \n",
    "        row_data = []\n",
    "        for col in columns_play:\n",
    "            row_data.append(col.text)\n",
    "\n",
    "        row_data.insert(1, player_name)\n",
    "        \n",
    "        play.click()\n",
    "\n",
    "        # Video display element\n",
    "        video_element = WebDriverWait(driver, 10).until(\n",
    "            EC.presence_of_element_located((By.XPATH, video_display_xpath))\n",
    "        )\n",
    "        video_src = video_element.get_attribute('src')\n",
    "        row_data.append(video_src) \n",
    "\n",
    "        # La fila se agrega al DataFrame\n",
    "        labels_df.loc[i - 1] = row_data  \n",
    "    \n",
    "    # Actualizar el csv con los nuevos datos\n",
    "    labels_df.to_csv(df_path, mode='a', index=True, header=False)\n",
    "\n",
    "    # Cuando se ha guardado, click en la flecha de ir para atrás\n",
    "    driver.back()\n",
    "    time.sleep(2)\n",
    "\n",
    "\n",
    "driver.quit()"
   ]
  }
 ],
 "metadata": {
  "kernelspec": {
   "display_name": ".venv",
   "language": "python",
   "name": "python3"
  },
  "language_info": {
   "codemirror_mode": {
    "name": "ipython",
    "version": 3
   },
   "file_extension": ".py",
   "mimetype": "text/x-python",
   "name": "python",
   "nbconvert_exporter": "python",
   "pygments_lexer": "ipython3",
   "version": "3.9.6"
  }
 },
 "nbformat": 4,
 "nbformat_minor": 2
}
