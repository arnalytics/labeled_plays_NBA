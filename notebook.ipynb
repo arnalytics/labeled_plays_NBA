{
 "cells": [
  {
   "cell_type": "code",
   "execution_count": 1,
   "metadata": {},
   "outputs": [
    {
     "name": "stderr",
     "output_type": "stream",
     "text": [
      "/Users/arnaubarrera/Desktop/MSc Computer Vision/TFM/labeled_plays_NBA/.venv/lib/python3.9/site-packages/urllib3/__init__.py:35: NotOpenSSLWarning: urllib3 v2 only supports OpenSSL 1.1.1+, currently the 'ssl' module is compiled with 'LibreSSL 2.8.3'. See: https://github.com/urllib3/urllib3/issues/3020\n",
      "  warnings.warn(\n"
     ]
    }
   ],
   "source": [
    "from selenium import webdriver\n",
    "from selenium.webdriver.common.by import By\n",
    "from selenium.webdriver.common.keys import Keys\n",
    "from selenium.webdriver.support.ui import WebDriverWait, Select\n",
    "from selenium.webdriver.support import expected_conditions as EC\n",
    "import time\n",
    "import pandas as pd\n",
    "import bs4 as BeautifulSoup\n",
    "\n",
    "from main import *"
   ]
  },
  {
   "cell_type": "code",
   "execution_count": null,
   "metadata": {},
   "outputs": [],
   "source": [
    "# TODO 2: AFEGRIR LA TEMPORADA ALS DATAFRAME DELS LABELS\n",
    "\n",
    "# TODO 3: Crear dataframe de labels\n",
    "'''\n",
    "    1. FGA: 2P, 3P, Ast\n",
    "    2. REB: Off, Def\n",
    "    3. Blocks\n",
    "    4. TOV/STL: # TODO: acabar de veure com ho gestionem pq no hi hagi jugades repetides\n",
    "'''\n",
    "\n",
    "# TODO 4: Descarregar vídeos, processat i crear datasets\n",
    "\n",
    "# TODO 5: Pensar què collons analitzaré jejej\n",
    "\n",
    "# TODO 6: Obtenir 3D tracking data dels vídeos\n",
    "\n",
    "# TODO 7: Crear/Finetune d'una xarxa multimodal: Vídeos + 3D tracking data"
   ]
  },
  {
   "cell_type": "code",
   "execution_count": 13,
   "metadata": {},
   "outputs": [
    {
     "name": "stdout",
     "output_type": "stream",
     "text": [
      "Cookies banner closed.\n"
     ]
    }
   ],
   "source": [
    "driver = initialize_driver(season=\"2023-24\")\n",
    "\n",
    "general_players_table_xpath = '//*[@id=\"__next\"]/div[2]/div[2]/div[3]/section[2]/div/div[2]/div[3]/table/'\n",
    "\n",
    "# Create the empty dataframe for the labels, depending on the type of play\n",
    "play_type_indices = {\"FGA\": 11, \"REB\": 21, \"TOV\": 23, \"STL\": 24, \"BLK\": 25}\n",
    "play_type = 'FGA'\n",
    "\n",
    "labels_df = create_dataframe(df_type=play_type)\n",
    "df_path = '/Users/arnaubarrera/Desktop/MSc Computer Vision/TFM/labeled_plays_NBA/holy_grail/FGA_labels.csv'\n",
    "labels_df.to_csv(df_path, mode='w', index=True, header=True)\n",
    "\n",
    "for i in range(1, 3):  # Iterate over the list of players\n",
    "\n",
    "    # Clicar en cierta columna (tipo de jugada) de un jugador en concreto\n",
    "    try:\n",
    "\n",
    "        link_xpath = general_players_table_xpath + f'tbody/tr[{i}]/td[{play_type_indices[play_type]}]/a'\n",
    "        link_element = WebDriverWait(driver, 10).until(\n",
    "            EC.element_to_be_clickable((By.XPATH, link_xpath))\n",
    "        )\n",
    "\n",
    "        link_url = link_element.get_attribute(\"href\")\n",
    "        driver.get(link_url)\n",
    "\n",
    "    except Exception as e:\n",
    "        print(f\"Error: {e}\")\n",
    "\n",
    "    video_display_xpath = '//*[@id=\"vjs_video_3_html5_api\"]'\n",
    "\n",
    "    # Load all the rows in one page before iterating\n",
    "    dropdown_xpath = '//*[@class=\"DropDown_select__4pIg9\"]'\n",
    "    option_value = '-1'\n",
    "\n",
    "    dropdown_element = WebDriverWait(driver, 10).until(\n",
    "        EC.element_to_be_clickable((By.XPATH, dropdown_xpath))\n",
    "    )\n",
    "    select = Select(dropdown_element)\n",
    "    select.select_by_value(option_value)\n",
    "\n",
    "    rows_number = count_rows_table_plays(driver, table_xpath='//*[@id=\"__next\"]/div[2]/div[2]/div[3]/section/div/div/div[3]/table/tbody')\n",
    "\n",
    "    for i in range(1, 5):  # Iterate over all the plays of a particular player\n",
    "        line_play = f'//*[@id=\"__next\"]/div[2]/div[2]/div[3]/section/div/div/div[3]/table/tbody/tr[{i}]/td'\n",
    "\n",
    "        play = WebDriverWait(driver, 10).until(\n",
    "            EC.element_to_be_clickable((By.XPATH, line_play))\n",
    "        )\n",
    "\n",
    "        columns_play = play.find_elements(By.XPATH, line_play)\n",
    "        \n",
    "        row_data = []\n",
    "        for col in columns_play:\n",
    "            row_data.append(col.text)\n",
    "        \n",
    "        play.click()\n",
    "\n",
    "        # Verify if the shot is assisted\n",
    "        ast_xpath = '//*[@id=\"__next\"]/div[2]/div[2]/div[3]/section/div/main/section[1]/div/div[2]/h2'\n",
    "\n",
    "        ast_element = WebDriverWait(driver, 10).until(\n",
    "            EC.presence_of_element_located((By.XPATH, ast_xpath))\n",
    "        )\n",
    "\n",
    "        ast_present, assisted_by = extract_assist_info(ast_element.text)\n",
    "        row_data.extend([ast_present, assisted_by])\n",
    "\n",
    "        # Video display element\n",
    "        video_element = WebDriverWait(driver, 10).until(\n",
    "            EC.presence_of_element_located((By.XPATH, video_display_xpath))\n",
    "        )\n",
    "        video_src = video_element.get_attribute('src')\n",
    "        row_data.append(video_src) \n",
    "\n",
    "        # La fila se agrega al DataFrame\n",
    "        labels_df.loc[i - 1] = row_data  \n",
    "    \n",
    "    # Actualizar el csv con los nuevos datos\n",
    "    labels_df.to_csv(df_path, mode='a', index=True, header=False)\n",
    "\n",
    "    # Cuando se ha guardado, click en la flecha de ir para atrás\n",
    "    driver.back()\n",
    "    time.sleep(2)\n",
    "\n",
    "\n",
    "driver.quit()"
   ]
  },
  {
   "cell_type": "code",
   "execution_count": 14,
   "metadata": {},
   "outputs": [],
   "source": [
    "df = pd.read_csv(df_path)"
   ]
  },
  {
   "cell_type": "code",
   "execution_count": null,
   "metadata": {},
   "outputs": [],
   "source": []
  }
 ],
 "metadata": {
  "kernelspec": {
   "display_name": ".venv",
   "language": "python",
   "name": "python3"
  },
  "language_info": {
   "codemirror_mode": {
    "name": "ipython",
    "version": 3
   },
   "file_extension": ".py",
   "mimetype": "text/x-python",
   "name": "python",
   "nbconvert_exporter": "python",
   "pygments_lexer": "ipython3",
   "version": "3.9.6"
  }
 },
 "nbformat": 4,
 "nbformat_minor": 2
}
