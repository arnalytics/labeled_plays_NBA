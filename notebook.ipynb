{
 "cells": [
  {
   "cell_type": "code",
   "execution_count": 1,
   "metadata": {},
   "outputs": [
    {
     "name": "stderr",
     "output_type": "stream",
     "text": [
      "/Users/arnaubarrera/Desktop/MSc Computer Vision/TFM/labeled_plays_NBA/.venv/lib/python3.9/site-packages/urllib3/__init__.py:35: NotOpenSSLWarning: urllib3 v2 only supports OpenSSL 1.1.1+, currently the 'ssl' module is compiled with 'LibreSSL 2.8.3'. See: https://github.com/urllib3/urllib3/issues/3020\n",
      "  warnings.warn(\n"
     ]
    }
   ],
   "source": [
    "from selenium import webdriver\n",
    "from selenium.webdriver.common.by import By\n",
    "from selenium.webdriver.common.keys import Keys\n",
    "from selenium.webdriver.support.ui import WebDriverWait, Select\n",
    "from selenium.webdriver.support import expected_conditions as EC\n",
    "import time\n",
    "import pandas as pd\n",
    "import bs4 as BeautifulSoup"
   ]
  },
  {
   "cell_type": "code",
   "execution_count": 2,
   "metadata": {},
   "outputs": [
    {
     "name": "stdout",
     "output_type": "stream",
     "text": [
      "Cookies banner closed.\n",
      "Link found: https://www.nba.com/stats/events/?CFID=&CFPARAMS=&ContextMeasure=AST&GameID=&PlayerID=203507&Season=2024-25&SeasonType=Regular%20Season&TeamID=1610612749&flag=1&sct=plot&section=game\n"
     ]
    }
   ],
   "source": [
    "# Initialize the Chrome driver\n",
    "driver = webdriver.Chrome()\n",
    "\n",
    "# Navigate to the player statistics page\n",
    "driver.get(\"https://www.nba.com/stats/players/traditional\")\n",
    "\n",
    "# Explicit wait to ensure the table is loaded\n",
    "wait = WebDriverWait(driver, 10)\n",
    "\n",
    "general_players_table_xpath = '//*[@id=\"__next\"]/div[2]/div[2]/div[3]/section[2]/div/div[2]/div[3]/table/'\n",
    "\n",
    "# Accept cookies\n",
    "try:\n",
    "    cookie_accept_button = WebDriverWait(driver, 10).until(\n",
    "        EC.element_to_be_clickable((By.XPATH, '//*[@id=\"onetrust-accept-btn-handler\"]'))\n",
    "    )\n",
    "    cookie_accept_button.click()  # Click on 'Accept'\n",
    "    print(\"Cookies banner closed.\")\n",
    "except Exception as e:\n",
    "    print(\"No cookies banner found or other issue:\", e)\n",
    "\n",
    "\n",
    "# Clicar en cierta columna (tipo de jugada) de un jugador en concreto\n",
    "try:\n",
    "    column_indices = {\"FGA\": 11, \"3PA\": 14, \"REB\": 21, \"AST\": 22, \"TOV\": 23, \"STL\": 24, \"BLK\": 25}\n",
    "\n",
    "    # Construye el XPath dinámicamente\n",
    "    link_xpath = general_players_table_xpath + f'tbody/tr[1]/td[{column_indices[\"FGA\"]}]/a'\n",
    "    link_element = WebDriverWait(driver, 10).until(\n",
    "        EC.element_to_be_clickable((By.XPATH, link_xpath))\n",
    "    )\n",
    "\n",
    "    link_url = link_element.get_attribute(\"href\")\n",
    "    print(f\"Link found: {link_element.get_attribute('href')}\")\n",
    "    driver.get(link_url)\n",
    "\n",
    "except Exception as e:\n",
    "    print(f\"Error: {e}\")\n",
    "\n",
    "\n",
    "\n",
    "time.sleep(5)\n",
    "driver.quit()"
   ]
  },
  {
   "cell_type": "code",
   "execution_count": null,
   "metadata": {},
   "outputs": [],
   "source": [
    "//*[@id=\"__next\"]/div[2]/div[2]/div[3]/section[2]/div/div[2]/div[3]/table/tbody/tr[1]/td[21]/a\n",
    "//*[@id=\"__next\"]/div[2]/div[2]/div[3]/section[2]/div/div[2]/div[3]/table/tbody/tr[259]/td[11]/a"
   ]
  }
 ],
 "metadata": {
  "kernelspec": {
   "display_name": ".venv",
   "language": "python",
   "name": "python3"
  },
  "language_info": {
   "codemirror_mode": {
    "name": "ipython",
    "version": 3
   },
   "file_extension": ".py",
   "mimetype": "text/x-python",
   "name": "python",
   "nbconvert_exporter": "python",
   "pygments_lexer": "ipython3",
   "version": "3.9.6"
  }
 },
 "nbformat": 4,
 "nbformat_minor": 2
}
