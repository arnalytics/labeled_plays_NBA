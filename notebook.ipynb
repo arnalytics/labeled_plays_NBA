{
 "cells": [
  {
   "cell_type": "code",
   "execution_count": 4,
   "metadata": {},
   "outputs": [],
   "source": [
    "from selenium import webdriver\n",
    "from selenium.webdriver.common.by import By\n",
    "from selenium.webdriver.common.keys import Keys\n",
    "from selenium.webdriver.support.ui import WebDriverWait, Select\n",
    "from selenium.webdriver.support import expected_conditions as EC\n",
    "import time\n",
    "import pandas as pd\n",
    "import bs4 as BeautifulSoup\n",
    "\n",
    "from main import *"
   ]
  },
  {
   "cell_type": "code",
   "execution_count": null,
   "metadata": {},
   "outputs": [],
   "source": [
    "# TODO 2: AFEGRIR LA TEMPORADA ALS DATAFRAME DELS LABELS\n",
    "\n",
    "# TODO 3: Crear dataframe de labels\n",
    "'''\n",
    "    3. Blocks\n",
    "    4. TOV/STL: # TODO: acabar de veure com ho gestionem pq no hi hagi jugades repetides\n",
    "'''\n",
    "\n",
    "# TODO 4: Descarregar vídeos, processat i crear datasets\n",
    "\n",
    "# TODO 5: Pensar què collons analitzaré jejej\n",
    "\n",
    "# TODO 6: Obtenir 3D tracking data dels vídeos\n",
    "\n",
    "# TODO 7: Crear/Finetune d'una xarxa multimodal: Vídeos + 3D tracking data"
   ]
  },
  {
   "cell_type": "markdown",
   "metadata": {},
   "source": [
    "## 1. Scrape labels for FGA, FGM, AST (2p & 3p)"
   ]
  },
  {
   "cell_type": "code",
   "execution_count": null,
   "metadata": {},
   "outputs": [],
   "source": [
    "driver = initialize_driver(season=\"2023-24\")\n",
    "\n",
    "general_players_table_xpath = '//*[@id=\"__next\"]/div[2]/div[2]/div[3]/section[2]/div/div[2]/div[3]/table/'\n",
    "\n",
    "# Create the empty dataframe for the labels, depending on the type of play\n",
    "play_type_indices = {\"FGA\": 11, \"REB\": 21, \"TOV\": 23, \"STL\": 24, \"BLK\": 25}\n",
    "play_type = 'FGA'\n",
    "\n",
    "df_path = '/Users/arnaubarrera/Desktop/MSc Computer Vision/TFM/labeled_plays_NBA/holy_grail/FGA_labels.csv'\n",
    "labels_df = pd.read_csv(df_path)\n",
    "\n",
    "for i in range(25, 100):  # Iterate over the list of players\n",
    "\n",
    "    # Clicar en cierta columna (tipo de jugada) de un jugador en concreto\n",
    "    try:\n",
    "\n",
    "        link_xpath = general_players_table_xpath + f'tbody/tr[{i}]/td[{play_type_indices[play_type]}]/a'\n",
    "        link_element = WebDriverWait(driver, 10).until(\n",
    "            EC.element_to_be_clickable((By.XPATH, link_xpath))\n",
    "        )\n",
    "\n",
    "        link_url = link_element.get_attribute(\"href\")\n",
    "        driver.get(link_url)\n",
    "\n",
    "    except Exception as e:\n",
    "        print(f\"Error: {e}\")\n",
    "\n",
    "    video_display_xpath = '//*[@id=\"vjs_video_3_html5_api\"]'\n",
    "\n",
    "    # Load all the rows in one page before iterating\n",
    "    dropdown_xpath = '//*[@class=\"DropDown_select__4pIg9\"]'\n",
    "    option_value = '-1'\n",
    "\n",
    "    dropdown_element = WebDriverWait(driver, 10).until(\n",
    "        EC.element_to_be_clickable((By.XPATH, dropdown_xpath))\n",
    "    )\n",
    "    select = Select(dropdown_element)\n",
    "    select.select_by_value(option_value)\n",
    "\n",
    "    rows_number = count_rows_table_plays(driver, table_xpath='//*[@id=\"__next\"]/div[2]/div[2]/div[3]/section/div/div/div[3]/table/tbody')\n",
    "\n",
    "    for i in range(1, rows_number):  # Iterate over all the plays of a particular player\n",
    "        line_play = f'//*[@id=\"__next\"]/div[2]/div[2]/div[3]/section/div/div/div[3]/table/tbody/tr[{i}]/td'\n",
    "\n",
    "        play = WebDriverWait(driver, 10).until(\n",
    "            EC.element_to_be_clickable((By.XPATH, line_play))\n",
    "        )\n",
    "\n",
    "        columns_play = play.find_elements(By.XPATH, line_play)\n",
    "        \n",
    "        row_data = []\n",
    "        for col in columns_play:\n",
    "            row_data.append(col.text)\n",
    "        \n",
    "        play.click()\n",
    "\n",
    "        # Verify if the shot is assisted\n",
    "        ast_xpath = '//*[@id=\"__next\"]/div[2]/div[2]/div[3]/section/div/main/section[1]/div/div[2]/h2'\n",
    "\n",
    "        ast_element = WebDriverWait(driver, 10).until(\n",
    "            EC.presence_of_element_located((By.XPATH, ast_xpath))\n",
    "        )\n",
    "\n",
    "        ast_present, assisted_by = extract_assist_info(ast_element.text)\n",
    "        row_data.extend([ast_present, assisted_by])\n",
    "\n",
    "        # Video display element\n",
    "        video_element = WebDriverWait(driver, 10).until(\n",
    "            EC.presence_of_element_located((By.XPATH, video_display_xpath))\n",
    "        )\n",
    "        video_src = video_element.get_attribute('src')\n",
    "        row_data.append(video_src) \n",
    "\n",
    "        # La fila se agrega al DataFrame\n",
    "        labels_df.loc[i - 1] = row_data  \n",
    "    \n",
    "    # Actualizar el csv con los nuevos datos\n",
    "    labels_df.to_csv(df_path, mode='a', index=True, header=False)\n",
    "\n",
    "    # Cuando se ha guardado, click en la flecha de ir para atrás\n",
    "    driver.back()\n",
    "    time.sleep(2)\n",
    "\n",
    "\n",
    "driver.quit()"
   ]
  },
  {
   "cell_type": "markdown",
   "metadata": {},
   "source": [
    "## 2.1 Scrape Off REB"
   ]
  },
  {
   "cell_type": "code",
   "execution_count": null,
   "metadata": {},
   "outputs": [
    {
     "name": "stdout",
     "output_type": "stream",
     "text": [
      "Cookies banner closed.\n",
      "There's only one page\n",
      "There's only one page\n",
      "There's only one page\n",
      "There's only one page\n",
      "There's only one page\n",
      "There's only one page\n",
      "There's only one page\n",
      "There's only one page\n",
      "There's only one page\n",
      "There's only one page\n",
      "There's only one page\n",
      "There's only one page\n",
      "There's only one page\n",
      "There's only one page\n",
      "There's only one page\n",
      "There's only one page\n",
      "There's only one page\n",
      "There's only one page\n",
      "There's only one page\n",
      "There's only one page\n",
      "There's only one page\n",
      "There's only one page\n",
      "There's only one page\n"
     ]
    },
    {
     "ename": "NoSuchElementException",
     "evalue": "Message: no such element: Unable to locate element: {\"method\":\"xpath\",\"selector\":\"//*[@id=\"__next\"]/div[2]/div[2]/div[3]/section[2]/div/div[2]/div[3]/table/tbody/tr[51]/td[2]/a\"}\n  (Session info: chrome=131.0.6778.265); For documentation on this error, please visit: https://www.selenium.dev/documentation/webdriver/troubleshooting/errors#no-such-element-exception\nStacktrace:\n0   chromedriver                        0x000000010518e138 cxxbridge1$str$ptr + 3653888\n1   chromedriver                        0x0000000105186988 cxxbridge1$str$ptr + 3623248\n2   chromedriver                        0x0000000104bec968 cxxbridge1$string$len + 89228\n3   chromedriver                        0x0000000104c30d4c cxxbridge1$string$len + 368752\n4   chromedriver                        0x0000000104c6a4f0 cxxbridge1$string$len + 604180\n5   chromedriver                        0x0000000104c25564 cxxbridge1$string$len + 321672\n6   chromedriver                        0x0000000104c261b4 cxxbridge1$string$len + 324824\n7   chromedriver                        0x0000000105158fc0 cxxbridge1$str$ptr + 3436424\n8   chromedriver                        0x000000010515c2dc cxxbridge1$str$ptr + 3449508\n9   chromedriver                        0x000000010513fe60 cxxbridge1$str$ptr + 3333672\n10  chromedriver                        0x000000010515cb9c cxxbridge1$str$ptr + 3451748\n11  chromedriver                        0x0000000105131678 cxxbridge1$str$ptr + 3274304\n12  chromedriver                        0x00000001051772b4 cxxbridge1$str$ptr + 3560060\n13  chromedriver                        0x0000000105177430 cxxbridge1$str$ptr + 3560440\n14  chromedriver                        0x00000001051865fc cxxbridge1$str$ptr + 3622340\n15  libsystem_pthread.dylib             0x000000019f9f72e4 _pthread_start + 136\n16  libsystem_pthread.dylib             0x000000019f9f20fc thread_start + 8\n",
     "output_type": "error",
     "traceback": [
      "\u001b[0;31m---------------------------------------------------------------------------\u001b[0m",
      "\u001b[0;31mNoSuchElementException\u001b[0m                    Traceback (most recent call last)",
      "Cell \u001b[0;32mIn[7], line 20\u001b[0m\n\u001b[1;32m     16\u001b[0m \u001b[38;5;28;01mfor\u001b[39;00m i \u001b[38;5;129;01min\u001b[39;00m \u001b[38;5;28mrange\u001b[39m(\u001b[38;5;241m1\u001b[39m, \u001b[38;5;241m100\u001b[39m):  \u001b[38;5;66;03m# Iterate over the list of players\u001b[39;00m\n\u001b[1;32m     17\u001b[0m \n\u001b[1;32m     18\u001b[0m     \u001b[38;5;66;03m# Player name\u001b[39;00m\n\u001b[1;32m     19\u001b[0m     xpath_player_name \u001b[38;5;241m=\u001b[39m \u001b[38;5;124mf\u001b[39m\u001b[38;5;124m'\u001b[39m\u001b[38;5;124m//*[@id=\u001b[39m\u001b[38;5;124m\"\u001b[39m\u001b[38;5;124m__next\u001b[39m\u001b[38;5;124m\"\u001b[39m\u001b[38;5;124m]/div[2]/div[2]/div[3]/section[2]/div/div[2]/div[3]/table/tbody/tr[\u001b[39m\u001b[38;5;132;01m{\u001b[39;00mi\u001b[38;5;132;01m}\u001b[39;00m\u001b[38;5;124m]/td[2]/a\u001b[39m\u001b[38;5;124m'\u001b[39m\n\u001b[0;32m---> 20\u001b[0m     player_name \u001b[38;5;241m=\u001b[39m \u001b[43mdriver\u001b[49m\u001b[38;5;241;43m.\u001b[39;49m\u001b[43mfind_element\u001b[49m\u001b[43m(\u001b[49m\u001b[43mBy\u001b[49m\u001b[38;5;241;43m.\u001b[39;49m\u001b[43mXPATH\u001b[49m\u001b[43m,\u001b[49m\u001b[43m \u001b[49m\u001b[43mxpath_player_name\u001b[49m\u001b[43m)\u001b[49m\u001b[38;5;241m.\u001b[39mtext\n\u001b[1;32m     22\u001b[0m     \u001b[38;5;66;03m# Clicar en cierta columna (tipo de jugada) de un jugador en concreto\u001b[39;00m\n\u001b[1;32m     23\u001b[0m     link_xpath \u001b[38;5;241m=\u001b[39m general_players_table_xpath \u001b[38;5;241m+\u001b[39m \u001b[38;5;124mf\u001b[39m\u001b[38;5;124m'\u001b[39m\u001b[38;5;124mtbody/tr[\u001b[39m\u001b[38;5;132;01m{\u001b[39;00mi\u001b[38;5;132;01m}\u001b[39;00m\u001b[38;5;124m]/td[\u001b[39m\u001b[38;5;132;01m{\u001b[39;00mplay_type_indices[play_type]\u001b[38;5;132;01m}\u001b[39;00m\u001b[38;5;124m]/a\u001b[39m\u001b[38;5;124m'\u001b[39m\n",
      "File \u001b[0;32m~/Desktop/MSc Computer Vision/TFM/labeled_plays_NBA/.venv/lib/python3.9/site-packages/selenium/webdriver/remote/webdriver.py:770\u001b[0m, in \u001b[0;36mWebDriver.find_element\u001b[0;34m(self, by, value)\u001b[0m\n\u001b[1;32m    767\u001b[0m         \u001b[38;5;28;01mraise\u001b[39;00m NoSuchElementException(\u001b[38;5;124mf\u001b[39m\u001b[38;5;124m\"\u001b[39m\u001b[38;5;124mCannot locate relative element with: \u001b[39m\u001b[38;5;132;01m{\u001b[39;00mby\u001b[38;5;241m.\u001b[39mroot\u001b[38;5;132;01m}\u001b[39;00m\u001b[38;5;124m\"\u001b[39m)\n\u001b[1;32m    768\u001b[0m     \u001b[38;5;28;01mreturn\u001b[39;00m elements[\u001b[38;5;241m0\u001b[39m]\n\u001b[0;32m--> 770\u001b[0m \u001b[38;5;28;01mreturn\u001b[39;00m \u001b[38;5;28;43mself\u001b[39;49m\u001b[38;5;241;43m.\u001b[39;49m\u001b[43mexecute\u001b[49m\u001b[43m(\u001b[49m\u001b[43mCommand\u001b[49m\u001b[38;5;241;43m.\u001b[39;49m\u001b[43mFIND_ELEMENT\u001b[49m\u001b[43m,\u001b[49m\u001b[43m \u001b[49m\u001b[43m{\u001b[49m\u001b[38;5;124;43m\"\u001b[39;49m\u001b[38;5;124;43musing\u001b[39;49m\u001b[38;5;124;43m\"\u001b[39;49m\u001b[43m:\u001b[49m\u001b[43m \u001b[49m\u001b[43mby\u001b[49m\u001b[43m,\u001b[49m\u001b[43m \u001b[49m\u001b[38;5;124;43m\"\u001b[39;49m\u001b[38;5;124;43mvalue\u001b[39;49m\u001b[38;5;124;43m\"\u001b[39;49m\u001b[43m:\u001b[49m\u001b[43m \u001b[49m\u001b[43mvalue\u001b[49m\u001b[43m}\u001b[49m\u001b[43m)\u001b[49m[\u001b[38;5;124m\"\u001b[39m\u001b[38;5;124mvalue\u001b[39m\u001b[38;5;124m\"\u001b[39m]\n",
      "File \u001b[0;32m~/Desktop/MSc Computer Vision/TFM/labeled_plays_NBA/.venv/lib/python3.9/site-packages/selenium/webdriver/remote/webdriver.py:384\u001b[0m, in \u001b[0;36mWebDriver.execute\u001b[0;34m(self, driver_command, params)\u001b[0m\n\u001b[1;32m    382\u001b[0m response \u001b[38;5;241m=\u001b[39m \u001b[38;5;28mself\u001b[39m\u001b[38;5;241m.\u001b[39mcommand_executor\u001b[38;5;241m.\u001b[39mexecute(driver_command, params)\n\u001b[1;32m    383\u001b[0m \u001b[38;5;28;01mif\u001b[39;00m response:\n\u001b[0;32m--> 384\u001b[0m     \u001b[38;5;28;43mself\u001b[39;49m\u001b[38;5;241;43m.\u001b[39;49m\u001b[43merror_handler\u001b[49m\u001b[38;5;241;43m.\u001b[39;49m\u001b[43mcheck_response\u001b[49m\u001b[43m(\u001b[49m\u001b[43mresponse\u001b[49m\u001b[43m)\u001b[49m\n\u001b[1;32m    385\u001b[0m     response[\u001b[38;5;124m\"\u001b[39m\u001b[38;5;124mvalue\u001b[39m\u001b[38;5;124m\"\u001b[39m] \u001b[38;5;241m=\u001b[39m \u001b[38;5;28mself\u001b[39m\u001b[38;5;241m.\u001b[39m_unwrap_value(response\u001b[38;5;241m.\u001b[39mget(\u001b[38;5;124m\"\u001b[39m\u001b[38;5;124mvalue\u001b[39m\u001b[38;5;124m\"\u001b[39m, \u001b[38;5;28;01mNone\u001b[39;00m))\n\u001b[1;32m    386\u001b[0m     \u001b[38;5;28;01mreturn\u001b[39;00m response\n",
      "File \u001b[0;32m~/Desktop/MSc Computer Vision/TFM/labeled_plays_NBA/.venv/lib/python3.9/site-packages/selenium/webdriver/remote/errorhandler.py:232\u001b[0m, in \u001b[0;36mErrorHandler.check_response\u001b[0;34m(self, response)\u001b[0m\n\u001b[1;32m    230\u001b[0m         alert_text \u001b[38;5;241m=\u001b[39m value[\u001b[38;5;124m\"\u001b[39m\u001b[38;5;124malert\u001b[39m\u001b[38;5;124m\"\u001b[39m]\u001b[38;5;241m.\u001b[39mget(\u001b[38;5;124m\"\u001b[39m\u001b[38;5;124mtext\u001b[39m\u001b[38;5;124m\"\u001b[39m)\n\u001b[1;32m    231\u001b[0m     \u001b[38;5;28;01mraise\u001b[39;00m exception_class(message, screen, stacktrace, alert_text)  \u001b[38;5;66;03m# type: ignore[call-arg]  # mypy is not smart enough here\u001b[39;00m\n\u001b[0;32m--> 232\u001b[0m \u001b[38;5;28;01mraise\u001b[39;00m exception_class(message, screen, stacktrace)\n",
      "\u001b[0;31mNoSuchElementException\u001b[0m: Message: no such element: Unable to locate element: {\"method\":\"xpath\",\"selector\":\"//*[@id=\"__next\"]/div[2]/div[2]/div[3]/section[2]/div/div[2]/div[3]/table/tbody/tr[51]/td[2]/a\"}\n  (Session info: chrome=131.0.6778.265); For documentation on this error, please visit: https://www.selenium.dev/documentation/webdriver/troubleshooting/errors#no-such-element-exception\nStacktrace:\n0   chromedriver                        0x000000010518e138 cxxbridge1$str$ptr + 3653888\n1   chromedriver                        0x0000000105186988 cxxbridge1$str$ptr + 3623248\n2   chromedriver                        0x0000000104bec968 cxxbridge1$string$len + 89228\n3   chromedriver                        0x0000000104c30d4c cxxbridge1$string$len + 368752\n4   chromedriver                        0x0000000104c6a4f0 cxxbridge1$string$len + 604180\n5   chromedriver                        0x0000000104c25564 cxxbridge1$string$len + 321672\n6   chromedriver                        0x0000000104c261b4 cxxbridge1$string$len + 324824\n7   chromedriver                        0x0000000105158fc0 cxxbridge1$str$ptr + 3436424\n8   chromedriver                        0x000000010515c2dc cxxbridge1$str$ptr + 3449508\n9   chromedriver                        0x000000010513fe60 cxxbridge1$str$ptr + 3333672\n10  chromedriver                        0x000000010515cb9c cxxbridge1$str$ptr + 3451748\n11  chromedriver                        0x0000000105131678 cxxbridge1$str$ptr + 3274304\n12  chromedriver                        0x00000001051772b4 cxxbridge1$str$ptr + 3560060\n13  chromedriver                        0x0000000105177430 cxxbridge1$str$ptr + 3560440\n14  chromedriver                        0x00000001051865fc cxxbridge1$str$ptr + 3622340\n15  libsystem_pthread.dylib             0x000000019f9f72e4 _pthread_start + 136\n16  libsystem_pthread.dylib             0x000000019f9f20fc thread_start + 8\n"
     ]
    }
   ],
   "source": [
    "season = \"2023-24\"\n",
    "play_type = \"OREB\"\n",
    "\n",
    "driver = initialize_driver(season=season)\n",
    "\n",
    "general_players_table_xpath = '//*[@id=\"__next\"]/div[2]/div[2]/div[3]/section[2]/div/div[2]/div[3]/table/'\n",
    "\n",
    "# Create the empty dataframe for the labels, depending on the type of play\n",
    "play_type_indices = {\"FGA\": 11, \"OREB\": 19, \"DREB\": 20, \"REB\": 21, \"TOV\": 23, \"STL\": 24, \"BLK\": 25}\n",
    "\n",
    "df_path = f'/Users/arnaubarrera/Desktop/MSc Computer Vision/TFM/labeled_plays_NBA/holy_grail/REB/{play_type}_labels.csv'\n",
    "labels_df = pd.read_csv(df_path)\n",
    "\n",
    "\n",
    "for i in range(1, 100):  # Iterate over the list of players\n",
    "\n",
    "    # Player name\n",
    "    xpath_player_name = f'//*[@id=\"__next\"]/div[2]/div[2]/div[3]/section[2]/div/div[2]/div[3]/table/tbody/tr[{i}]/td[2]/a'\n",
    "    player_name = driver.find_element(By.XPATH, xpath_player_name).text\n",
    "\n",
    "    # Clicar en cierta columna (tipo de jugada) de un jugador en concreto\n",
    "    link_xpath = general_players_table_xpath + f'tbody/tr[{i}]/td[{play_type_indices[play_type]}]/a'\n",
    "    link_element = WebDriverWait(driver, 10).until(\n",
    "        EC.element_to_be_clickable((By.XPATH, link_xpath))\n",
    "    )\n",
    "\n",
    "    link_url = link_element.get_attribute(\"href\")\n",
    "    driver.get(link_url)\n",
    "\n",
    "    video_display_xpath = '//*[@id=\"vjs_video_3_html5_api\"]'\n",
    "\n",
    "    # Load all the rows in one page before iterating\n",
    "    dropdown_xpath = '//*[@class=\"DropDown_select__4pIg9\"]'\n",
    "    option_value = '-1'\n",
    "\n",
    "    try:\n",
    "        dropdown_element = WebDriverWait(driver, 10).until(\n",
    "            EC.element_to_be_clickable((By.XPATH, dropdown_xpath))\n",
    "        )\n",
    "        select = Select(dropdown_element)\n",
    "        select.select_by_value(option_value)\n",
    "    except:\n",
    "        print(\"There's only one page\")\n",
    "\n",
    "\n",
    "    rows_number = count_rows_table_plays(driver, table_xpath='//*[@id=\"__next\"]/div[2]/div[2]/div[3]/section/div/div/div[3]/table/tbody')\n",
    "\n",
    "    for i in range(1, rows_number):  # Iterate over all the plays of a particular player\n",
    "        line_play = f'//*[@id=\"__next\"]/div[2]/div[2]/div[3]/section/div/div/div[3]/table/tbody/tr[{i}]/td'\n",
    "\n",
    "        play = WebDriverWait(driver, 10).until(\n",
    "            EC.element_to_be_clickable((By.XPATH, line_play))\n",
    "        )\n",
    "\n",
    "        columns_play = play.find_elements(By.XPATH, line_play)\n",
    "        \n",
    "        row_data = []\n",
    "        for col in columns_play:\n",
    "            row_data.append(col.text)\n",
    "\n",
    "        row_data.insert(1, player_name)\n",
    "        row_data.insert(3, 'Off')\n",
    "        \n",
    "        play.click()\n",
    "\n",
    "        # Video display element\n",
    "        video_element = WebDriverWait(driver, 10).until(\n",
    "            EC.presence_of_element_located((By.XPATH, video_display_xpath))\n",
    "        )\n",
    "        video_src = video_element.get_attribute('src')\n",
    "        row_data.append(video_src) \n",
    "\n",
    "        # La fila se agrega al DataFrame\n",
    "        labels_df.loc[i - 1] = row_data  \n",
    "    \n",
    "    # Actualizar el csv con los nuevos datos\n",
    "    labels_df.to_csv(df_path, mode='a', index=True, header=False)\n",
    "\n",
    "    # Cuando se ha guardado, click en la flecha de ir para atrás\n",
    "    driver.back()\n",
    "    time.sleep(2)\n",
    "\n",
    "\n",
    "driver.quit()"
   ]
  },
  {
   "cell_type": "markdown",
   "metadata": {},
   "source": [
    "## 2.2 Scrape Def REB"
   ]
  },
  {
   "cell_type": "code",
   "execution_count": 15,
   "metadata": {},
   "outputs": [
    {
     "name": "stdout",
     "output_type": "stream",
     "text": [
      "Cookies banner closed.\n"
     ]
    },
    {
     "ename": "TimeoutException",
     "evalue": "Message: \nStacktrace:\n0   chromedriver                        0x0000000102c42138 cxxbridge1$str$ptr + 3653888\n1   chromedriver                        0x0000000102c3a988 cxxbridge1$str$ptr + 3623248\n2   chromedriver                        0x00000001026a0968 cxxbridge1$string$len + 89228\n3   chromedriver                        0x00000001026e4d4c cxxbridge1$string$len + 368752\n4   chromedriver                        0x000000010271e4f0 cxxbridge1$string$len + 604180\n5   chromedriver                        0x00000001026d9564 cxxbridge1$string$len + 321672\n6   chromedriver                        0x00000001026da1b4 cxxbridge1$string$len + 324824\n7   chromedriver                        0x0000000102c0cfc0 cxxbridge1$str$ptr + 3436424\n8   chromedriver                        0x0000000102c102dc cxxbridge1$str$ptr + 3449508\n9   chromedriver                        0x0000000102bf3e60 cxxbridge1$str$ptr + 3333672\n10  chromedriver                        0x0000000102c10b9c cxxbridge1$str$ptr + 3451748\n11  chromedriver                        0x0000000102be5678 cxxbridge1$str$ptr + 3274304\n12  chromedriver                        0x0000000102c2b2b4 cxxbridge1$str$ptr + 3560060\n13  chromedriver                        0x0000000102c2b430 cxxbridge1$str$ptr + 3560440\n14  chromedriver                        0x0000000102c3a5fc cxxbridge1$str$ptr + 3622340\n15  libsystem_pthread.dylib             0x000000019f9f72e4 _pthread_start + 136\n16  libsystem_pthread.dylib             0x000000019f9f20fc thread_start + 8\n",
     "output_type": "error",
     "traceback": [
      "\u001b[0;31m---------------------------------------------------------------------------\u001b[0m",
      "\u001b[0;31mTimeoutException\u001b[0m                          Traceback (most recent call last)",
      "Cell \u001b[0;32mIn[15], line 37\u001b[0m\n\u001b[1;32m     34\u001b[0m dropdown_xpath \u001b[38;5;241m=\u001b[39m \u001b[38;5;124m'\u001b[39m\u001b[38;5;124m//*[@class=\u001b[39m\u001b[38;5;124m\"\u001b[39m\u001b[38;5;124mDropDown_select__4pIg9\u001b[39m\u001b[38;5;124m\"\u001b[39m\u001b[38;5;124m]\u001b[39m\u001b[38;5;124m'\u001b[39m\n\u001b[1;32m     35\u001b[0m option_value \u001b[38;5;241m=\u001b[39m \u001b[38;5;124m'\u001b[39m\u001b[38;5;124m-1\u001b[39m\u001b[38;5;124m'\u001b[39m\n\u001b[0;32m---> 37\u001b[0m dropdown_element \u001b[38;5;241m=\u001b[39m \u001b[43mWebDriverWait\u001b[49m\u001b[43m(\u001b[49m\u001b[43mdriver\u001b[49m\u001b[43m,\u001b[49m\u001b[43m \u001b[49m\u001b[38;5;241;43m10\u001b[39;49m\u001b[43m)\u001b[49m\u001b[38;5;241;43m.\u001b[39;49m\u001b[43muntil\u001b[49m\u001b[43m(\u001b[49m\n\u001b[1;32m     38\u001b[0m \u001b[43m    \u001b[49m\u001b[43mEC\u001b[49m\u001b[38;5;241;43m.\u001b[39;49m\u001b[43melement_to_be_clickable\u001b[49m\u001b[43m(\u001b[49m\u001b[43m(\u001b[49m\u001b[43mBy\u001b[49m\u001b[38;5;241;43m.\u001b[39;49m\u001b[43mXPATH\u001b[49m\u001b[43m,\u001b[49m\u001b[43m \u001b[49m\u001b[43mdropdown_xpath\u001b[49m\u001b[43m)\u001b[49m\u001b[43m)\u001b[49m\n\u001b[1;32m     39\u001b[0m \u001b[43m\u001b[49m\u001b[43m)\u001b[49m\n\u001b[1;32m     40\u001b[0m select \u001b[38;5;241m=\u001b[39m Select(dropdown_element)\n\u001b[1;32m     41\u001b[0m select\u001b[38;5;241m.\u001b[39mselect_by_value(option_value)\n",
      "File \u001b[0;32m~/Desktop/MSc Computer Vision/TFM/labeled_plays_NBA/.venv/lib/python3.9/site-packages/selenium/webdriver/support/wait.py:105\u001b[0m, in \u001b[0;36mWebDriverWait.until\u001b[0;34m(self, method, message)\u001b[0m\n\u001b[1;32m    103\u001b[0m         \u001b[38;5;28;01mbreak\u001b[39;00m\n\u001b[1;32m    104\u001b[0m     time\u001b[38;5;241m.\u001b[39msleep(\u001b[38;5;28mself\u001b[39m\u001b[38;5;241m.\u001b[39m_poll)\n\u001b[0;32m--> 105\u001b[0m \u001b[38;5;28;01mraise\u001b[39;00m TimeoutException(message, screen, stacktrace)\n",
      "\u001b[0;31mTimeoutException\u001b[0m: Message: \nStacktrace:\n0   chromedriver                        0x0000000102c42138 cxxbridge1$str$ptr + 3653888\n1   chromedriver                        0x0000000102c3a988 cxxbridge1$str$ptr + 3623248\n2   chromedriver                        0x00000001026a0968 cxxbridge1$string$len + 89228\n3   chromedriver                        0x00000001026e4d4c cxxbridge1$string$len + 368752\n4   chromedriver                        0x000000010271e4f0 cxxbridge1$string$len + 604180\n5   chromedriver                        0x00000001026d9564 cxxbridge1$string$len + 321672\n6   chromedriver                        0x00000001026da1b4 cxxbridge1$string$len + 324824\n7   chromedriver                        0x0000000102c0cfc0 cxxbridge1$str$ptr + 3436424\n8   chromedriver                        0x0000000102c102dc cxxbridge1$str$ptr + 3449508\n9   chromedriver                        0x0000000102bf3e60 cxxbridge1$str$ptr + 3333672\n10  chromedriver                        0x0000000102c10b9c cxxbridge1$str$ptr + 3451748\n11  chromedriver                        0x0000000102be5678 cxxbridge1$str$ptr + 3274304\n12  chromedriver                        0x0000000102c2b2b4 cxxbridge1$str$ptr + 3560060\n13  chromedriver                        0x0000000102c2b430 cxxbridge1$str$ptr + 3560440\n14  chromedriver                        0x0000000102c3a5fc cxxbridge1$str$ptr + 3622340\n15  libsystem_pthread.dylib             0x000000019f9f72e4 _pthread_start + 136\n16  libsystem_pthread.dylib             0x000000019f9f20fc thread_start + 8\n"
     ]
    }
   ],
   "source": [
    "season = \"2023-24\"\n",
    "play_type = \"DREB\"\n",
    "\n",
    "driver = initialize_driver(season=season)\n",
    "\n",
    "general_players_table_xpath = '//*[@id=\"__next\"]/div[2]/div[2]/div[3]/section[2]/div/div[2]/div[3]/table/'\n",
    "\n",
    "# Create the empty dataframe for the labels, depending on the type of play\n",
    "play_type_indices = {\"FGA\": 11, \"OREB\": 19, \"DREB\": 20, \"REB\": 21, \"TOV\": 23, \"STL\": 24, \"BLK\": 25}\n",
    "\n",
    "df_path = f'/Users/arnaubarrera/Desktop/MSc Computer Vision/TFM/labeled_plays_NBA/holy_grail/REB/{play_type}_labels.csv'\n",
    "labels_df = pd.read_csv(df_path)\n",
    "\n",
    "for i in range(1, 100):  # Iterate over the list of players\n",
    "\n",
    "    # Player name\n",
    "    xpath_player_name = f'//*[@id=\"__next\"]/div[2]/div[2]/div[3]/section[2]/div/div[2]/div[3]/table/tbody/tr[{i}]/td[2]/a'\n",
    "    player_name = driver.find_element(By.XPATH, xpath_player_name).text\n",
    "\n",
    "    # Clicar en cierta columna (tipo de jugada) de un jugador en concreto\n",
    "    link_xpath = general_players_table_xpath + f'tbody/tr[{i}]/td[{play_type_indices[play_type]}]/a'\n",
    "    link_element = WebDriverWait(driver, 10).until(\n",
    "        EC.element_to_be_clickable((By.XPATH, link_xpath))\n",
    "    )\n",
    "\n",
    "    link_url = link_element.get_attribute(\"href\")\n",
    "    driver.get(link_url)\n",
    "\n",
    "    video_display_xpath = '//*[@id=\"vjs_video_3_html5_api\"]'\n",
    "\n",
    "    # Load all the rows in one page before iterating\n",
    "    dropdown_xpath = '//*[@class=\"DropDown_select__4pIg9\"]'\n",
    "    option_value = '-1'\n",
    "\n",
    "    try:\n",
    "        dropdown_element = WebDriverWait(driver, 10).until(\n",
    "            EC.element_to_be_clickable((By.XPATH, dropdown_xpath))\n",
    "        )\n",
    "        select = Select(dropdown_element)\n",
    "        select.select_by_value(option_value)\n",
    "    except:\n",
    "        print(\"There's only one page\")\n",
    "        \n",
    "\n",
    "    rows_number = count_rows_table_plays(driver, table_xpath='//*[@id=\"__next\"]/div[2]/div[2]/div[3]/section/div/div/div[3]/table/tbody')\n",
    "\n",
    "    for i in range(1, rows_number):  # Iterate over all the plays of a particular player\n",
    "        line_play = f'//*[@id=\"__next\"]/div[2]/div[2]/div[3]/section/div/div/div[3]/table/tbody/tr[{i}]/td'\n",
    "\n",
    "        play = WebDriverWait(driver, 10).until(\n",
    "            EC.element_to_be_clickable((By.XPATH, line_play))\n",
    "        )\n",
    "\n",
    "        columns_play = play.find_elements(By.XPATH, line_play)\n",
    "        \n",
    "        row_data = []\n",
    "        for col in columns_play:\n",
    "            row_data.append(col.text)\n",
    "\n",
    "        row_data.insert(1, player_name)\n",
    "        row_data.insert(3, 'Off')\n",
    "        \n",
    "        play.click()\n",
    "\n",
    "        # Video display element\n",
    "        video_element = WebDriverWait(driver, 10).until(\n",
    "            EC.presence_of_element_located((By.XPATH, video_display_xpath))\n",
    "        )\n",
    "        video_src = video_element.get_attribute('src')\n",
    "        row_data.append(video_src) \n",
    "\n",
    "        # La fila se agrega al DataFrame\n",
    "        labels_df.loc[i - 1] = row_data  \n",
    "    \n",
    "    # Actualizar el csv con los nuevos datos\n",
    "    labels_df.to_csv(df_path, mode='a', index=True, header=False)\n",
    "\n",
    "    # Cuando se ha guardado, click en la flecha de ir para atrás\n",
    "    driver.back()\n",
    "    time.sleep(2)\n",
    "\n",
    "\n",
    "driver.quit()"
   ]
  },
  {
   "cell_type": "markdown",
   "metadata": {},
   "source": [
    "## 3. Download videos"
   ]
  },
  {
   "cell_type": "code",
   "execution_count": 19,
   "metadata": {},
   "outputs": [],
   "source": [
    "df_path = '/Users/arnaubarrera/Desktop/MSc Computer Vision/TFM/labeled_plays_NBA/holy_grail/REB/OREB_labels.csv'\n",
    "df = pd.read_csv(df_path)\n",
    "#df = clean_missing_video_data(df)"
   ]
  },
  {
   "cell_type": "code",
   "execution_count": null,
   "metadata": {},
   "outputs": [],
   "source": [
    "download_videos_from_dataframe(df, name='FGA', output_dir=df_path, max_workers=32)"
   ]
  },
  {
   "cell_type": "code",
   "execution_count": 20,
   "metadata": {},
   "outputs": [],
   "source": [
    "tipos_unicos = df['PLAYER'].unique()"
   ]
  },
  {
   "cell_type": "code",
   "execution_count": 21,
   "metadata": {},
   "outputs": [
    {
     "data": {
      "text/plain": [
       "50"
      ]
     },
     "execution_count": 21,
     "metadata": {},
     "output_type": "execute_result"
    }
   ],
   "source": [
    "len(tipos_unicos)"
   ]
  },
  {
   "cell_type": "code",
   "execution_count": 11,
   "metadata": {},
   "outputs": [
    {
     "name": "stdout",
     "output_type": "stream",
     "text": [
      "Tipos de datos distintos: [<class 'str'>]\n",
      "Cantidad de tipos distintos: 1\n"
     ]
    }
   ],
   "source": [
    "print(\"Tipos de datos distintos:\", tipos_unicos)\n",
    "print(\"Cantidad de tipos distintos:\", len(tipos_unicos))"
   ]
  },
  {
   "cell_type": "code",
   "execution_count": null,
   "metadata": {},
   "outputs": [],
   "source": []
  }
 ],
 "metadata": {
  "kernelspec": {
   "display_name": ".venv",
   "language": "python",
   "name": "python3"
  },
  "language_info": {
   "codemirror_mode": {
    "name": "ipython",
    "version": 3
   },
   "file_extension": ".py",
   "mimetype": "text/x-python",
   "name": "python",
   "nbconvert_exporter": "python",
   "pygments_lexer": "ipython3",
   "version": "3.9.6"
  }
 },
 "nbformat": 4,
 "nbformat_minor": 2
}
